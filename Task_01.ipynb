{
  "nbformat": 4,
  "nbformat_minor": 0,
  "metadata": {
    "colab": {
      "provenance": [],
      "authorship_tag": "ABX9TyN3TU53YTiXj7i7VdOHLBVG",
      "include_colab_link": true
    },
    "kernelspec": {
      "name": "python3",
      "display_name": "Python 3"
    },
    "language_info": {
      "name": "python"
    }
  },
  "cells": [
    {
      "cell_type": "markdown",
      "metadata": {
        "id": "view-in-github",
        "colab_type": "text"
      },
      "source": [
        "<a href=\"https://colab.research.google.com/github/2303A52102/codsoft_task_01/blob/main/Task_01.ipynb\" target=\"_parent\"><img src=\"https://colab.research.google.com/assets/colab-badge.svg\" alt=\"Open In Colab\"/></a>"
      ]
    },
    {
      "cell_type": "code",
      "execution_count": 1,
      "metadata": {
        "colab": {
          "base_uri": "https://localhost:8080/"
        },
        "id": "9gFPP49v--lW",
        "outputId": "108937c7-c812-4adf-801d-4d47d457cff6"
      },
      "outputs": [
        {
          "output_type": "stream",
          "name": "stdout",
          "text": [
            "🤖 ChatBot: Hello! Type something to start the conversation. Type 'bye' to exit.\n",
            "\n",
            "You: hi\n",
            "🤖 ChatBot: Hello! How can I assist you today?\n",
            "You: how are you\n",
            "🤖 ChatBot: I'm doing great, thank you! How about you?\n",
            "You: name\n",
            "🤖 ChatBot: I'm a simple rule-based chatbot built in Python.\n",
            "You: help\n",
            "🤖 ChatBot: Sure! I'm here to help. Ask me anything.\n",
            "You: time\n",
            "🤖 ChatBot: The current time is 16:59:09.\n",
            "You: date\n",
            "🤖 ChatBot: Today's date is 19-04-2025.\n",
            "You: bye\n",
            "🤖 ChatBot: Goodbye! Have a great day 😊\n"
          ]
        }
      ],
      "source": [
        "import re\n",
        "from datetime import datetime\n",
        "\n",
        "def get_response(user_input):\n",
        "    user_input = user_input.lower()\n",
        "\n",
        "    if re.search(r'\\b(hi|hello|hey)\\b', user_input):\n",
        "        return \"Hello! How can I assist you today?\"\n",
        "\n",
        "    elif re.search(r'how are you\\??', user_input):\n",
        "        return \"I'm doing great, thank you! How about you?\"\n",
        "\n",
        "    elif re.search(r'\\b(name|who are you)\\b', user_input):\n",
        "        return \"I'm a simple rule-based chatbot built in Python.\"\n",
        "\n",
        "    elif re.search(r'\\b(help|support)\\b', user_input):  # Added word boundaries\n",
        "        return \"Sure! I'm here to help. Ask me anything.\"\n",
        "\n",
        "    elif re.search(r'\\btime\\b', user_input):\n",
        "        return f\"The current time is {datetime.now().strftime('%H:%M:%S')}.\"\n",
        "\n",
        "    elif re.search(r'\\bdate\\b', user_input):\n",
        "        return f\"Today's date is {datetime.now().strftime('%d-%m-%Y')}.\"\n",
        "\n",
        "    elif re.search(r'\\b(bye|exit|quit)\\b', user_input):\n",
        "        return \"Goodbye! Have a great day 😊\"\n",
        "\n",
        "    else:\n",
        "        return \"I'm not sure how to respond to that. Try asking something else.\"\n",
        "\n",
        "def chat():\n",
        "    print(\"🤖 ChatBot: Hello! Type something to start the conversation. Type 'bye' to exit.\\n\")\n",
        "\n",
        "    while True:\n",
        "        user_input = input(\"You: \")\n",
        "\n",
        "        response = get_response(user_input)\n",
        "\n",
        "        print(f\"🤖 ChatBot: {response}\")\n",
        "\n",
        "        if any(keyword in response.lower() for keyword in ['bye', 'goodbye', 'exit', 'quit']):\n",
        "            break\n",
        "\n",
        "# Corrected the typo in the if condition: __name__ instead of _name_\n",
        "if __name__ == \"__main__\":\n",
        "    chat()"
      ]
    }
  ]
}